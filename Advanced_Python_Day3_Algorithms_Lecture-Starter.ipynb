{
 "cells": [
  {
   "cell_type": "markdown",
   "metadata": {},
   "source": [
    "# Classic Algorithms"
   ]
  },
  {
   "cell_type": "markdown",
   "metadata": {},
   "source": [
    "## Tasks Today:\n",
    "\n",
    "1) <b>Intro to Algorithms</b> <br>\n",
    " &nbsp;&nbsp;&nbsp;&nbsp; a) What are algorithms <br>\n",
    " &nbsp;&nbsp;&nbsp;&nbsp; b) Quick Intro to Big-O Notation <br>\n",
    "2) <b>In-Place Algorithms</b> <br>\n",
    " &nbsp;&nbsp;&nbsp;&nbsp; a) Syntax <br>\n",
    " &nbsp;&nbsp;&nbsp;&nbsp; a) Out of Place Algorithm <br>\n",
    " &nbsp;&nbsp;&nbsp;&nbsp; b) In-Class Exercise #1 <br>\n",
    "3) <b>Two Pointers</b> <br>\n",
    "4) <b>Sorting Algorithms</b> <br>\n",
    "5) <b>Merge Sort</b> <br>\n",
    " &nbsp;&nbsp;&nbsp;&nbsp; a) Video on Algorithms <br>\n",
    " &nbsp;&nbsp;&nbsp;&nbsp; b) How it Works <br>\n",
    "6) <b>Exercises</b> <br>\n",
    " &nbsp;&nbsp;&nbsp;&nbsp; a) Exercise #1 - Reverse a List in Place Using an In-Place Algorithm <br>\n",
    " &nbsp;&nbsp;&nbsp;&nbsp; b) Exercise #2 - Find Distinct Words <br>\n",
    " &nbsp;&nbsp;&nbsp;&nbsp; c) Exercise #3 - Write a program to implement a Linear Search Algorithm. <br>"
   ]
  },
  {
   "cell_type": "markdown",
   "metadata": {},
   "source": [
    "## Intro to Algorithms"
   ]
  },
  {
   "cell_type": "markdown",
   "metadata": {},
   "source": [
    "#### What is an algorithm"
   ]
  },
  {
   "cell_type": "markdown",
   "metadata": {},
   "source": [
    "- An algorithm is a set of instructions for solving a problem \n",
    "- Algorithms are used to solve all types of problems such as sorting data and searching for information\n",
    "- Being able to write efficient algorithms is an important part of being a computer programmer"
   ]
  },
  {
   "cell_type": "markdown",
   "metadata": {},
   "source": [
    "#### Quick Intro to Big O Notation"
   ]
  },
  {
   "cell_type": "markdown",
   "metadata": {},
   "source": [
    "Time and space complexity is the measure of how much time a given action(function) will take to solve a problem. In the same fashion, we determine how much a given data structure will need in terms of memory allocation. A problem can have multiple solutions and finding the optimal solution for the problem needs to be analyzed in time and space.\n",
    "<br>\n",
    "See more <a href=\"https://zippy-lan-200.notion.site/Intro-to-Time-Complexity-ae4a9c7dbefb4b9f9351ade7a2b2fa72\">here</a>"
   ]
  },
  {
   "cell_type": "code",
   "execution_count": null,
   "metadata": {},
   "outputs": [],
   "source": []
  },
  {
   "cell_type": "markdown",
   "metadata": {},
   "source": [
    "## In-Place Algorithms"
   ]
  },
  {
   "cell_type": "markdown",
   "metadata": {},
   "source": [
    "#### Syntax"
   ]
  },
  {
   "cell_type": "code",
   "execution_count": null,
   "metadata": {},
   "outputs": [],
   "source": []
  },
  {
   "cell_type": "code",
   "execution_count": null,
   "metadata": {},
   "outputs": [],
   "source": []
  },
  {
   "cell_type": "code",
   "execution_count": null,
   "metadata": {},
   "outputs": [],
   "source": [
    "# a_list[a], a_list[b] = a_list[b], a_list[a]\n"
   ]
  },
  {
   "cell_type": "code",
   "execution_count": null,
   "metadata": {},
   "outputs": [],
   "source": []
  },
  {
   "cell_type": "markdown",
   "metadata": {},
   "source": [
    "#### Out of Place Algorithm"
   ]
  },
  {
   "cell_type": "code",
   "execution_count": null,
   "metadata": {
    "scrolled": true
   },
   "outputs": [],
   "source": []
  },
  {
   "cell_type": "code",
   "execution_count": null,
   "metadata": {},
   "outputs": [],
   "source": [
    "continents = ['Africa', 'Antarctica', 'Asia', 'Australia', 'Europe', 'North America', 'South America']\n"
   ]
  },
  {
   "cell_type": "code",
   "execution_count": null,
   "metadata": {
    "scrolled": true
   },
   "outputs": [],
   "source": [
    "# .sort() method is in-place\n"
   ]
  },
  {
   "cell_type": "code",
   "execution_count": null,
   "metadata": {},
   "outputs": [],
   "source": [
    "# sorted function is out-of-place\n"
   ]
  },
  {
   "cell_type": "markdown",
   "metadata": {},
   "source": [
    "#### In-Class Exercise #1 <br>\n",
    "<p>Write a function that takes in four arguments (a_list, index1, index2, index3), and swaps those three positions in the list passed in.</p>"
   ]
  },
  {
   "cell_type": "code",
   "execution_count": null,
   "metadata": {},
   "outputs": [],
   "source": [
    "some_list = ['Illinois', 'Indiana', 'Wisconsin', 'Minnesota', 'Michigan', 'Missouri']\n",
    "#Possible Output: ['Illinois', 'Minnesota', 'Wisconsin', 'Michigan', 'Indiana', 'Missouri']"
   ]
  },
  {
   "cell_type": "code",
   "execution_count": 1,
   "metadata": {},
   "outputs": [
    {
     "name": "stdout",
     "output_type": "stream",
     "text": [
      "['Wisconsin', 'Indiana', 'Michigan', 'Minnesota', 'Illinois', 'Missouri']\n"
     ]
    }
   ],
   "source": [
    "def swap_positions(a_list, index1, index2, index3):\n",
    "    \"\"\"\n",
    "    Swaps the elements at the given indices in the input list.\n",
    "\n",
    "    Args:\n",
    "        a_list (list): The list in which elements need to be swapped.\n",
    "        index1 (int): The index of the first element to be swapped.\n",
    "        index2 (int): The index of the second element to be swapped.\n",
    "        index3 (int): The index of the third element to be swapped.\n",
    "\n",
    "    Returns:\n",
    "        list: The input list with elements swapped at the given indices.\n",
    "    \"\"\"\n",
    "    # Create a copy of the input list to avoid modifying the original\n",
    "    new_list = a_list[:]\n",
    "\n",
    "    # Swap the elements at the given indices\n",
    "    new_list[index1], new_list[index2], new_list[index3] = new_list[index2], new_list[index3], new_list[index1]\n",
    "\n",
    "    return new_list\n",
    "\n",
    "\n",
    "# Example usage\n",
    "some_list = ['Illinois', 'Indiana', 'Wisconsin', 'Minnesota', 'Michigan', 'Missouri']\n",
    "print(swap_positions(some_list, 0, 2, 4))\n"
   ]
  },
  {
   "cell_type": "markdown",
   "metadata": {},
   "source": [
    "## Two Pointers"
   ]
  },
  {
   "cell_type": "markdown",
   "metadata": {},
   "source": [
    "#### Syntax"
   ]
  },
  {
   "cell_type": "code",
   "execution_count": null,
   "metadata": {},
   "outputs": [],
   "source": []
  },
  {
   "cell_type": "code",
   "execution_count": null,
   "metadata": {},
   "outputs": [],
   "source": []
  },
  {
   "cell_type": "code",
   "execution_count": null,
   "metadata": {},
   "outputs": [],
   "source": []
  },
  {
   "cell_type": "code",
   "execution_count": null,
   "metadata": {},
   "outputs": [],
   "source": []
  },
  {
   "cell_type": "markdown",
   "metadata": {},
   "source": [
    "# Sorting Algorithms"
   ]
  },
  {
   "cell_type": "code",
   "execution_count": null,
   "metadata": {},
   "outputs": [],
   "source": [
    "from random import randint\n",
    "\n"
   ]
  },
  {
   "cell_type": "markdown",
   "metadata": {},
   "source": [
    "#### Bubble Sort\n",
    "\n",
    "Worst Case: O(n^2) Time - O(1) Space"
   ]
  },
  {
   "cell_type": "code",
   "execution_count": null,
   "metadata": {},
   "outputs": [],
   "source": []
  },
  {
   "cell_type": "code",
   "execution_count": null,
   "metadata": {},
   "outputs": [],
   "source": []
  },
  {
   "cell_type": "code",
   "execution_count": null,
   "metadata": {},
   "outputs": [],
   "source": []
  },
  {
   "cell_type": "markdown",
   "metadata": {},
   "source": [
    "##### Insertion Sort\n",
    "\n",
    "Worst Case: O(n^2) time - O(1)space"
   ]
  },
  {
   "cell_type": "code",
   "execution_count": null,
   "metadata": {},
   "outputs": [],
   "source": []
  },
  {
   "cell_type": "code",
   "execution_count": null,
   "metadata": {},
   "outputs": [],
   "source": []
  },
  {
   "cell_type": "code",
   "execution_count": null,
   "metadata": {},
   "outputs": [],
   "source": []
  },
  {
   "cell_type": "markdown",
   "metadata": {},
   "source": [
    "## Merge Sort"
   ]
  },
  {
   "cell_type": "markdown",
   "metadata": {},
   "source": [
    "#### How it Works"
   ]
  },
  {
   "cell_type": "code",
   "execution_count": null,
   "metadata": {},
   "outputs": [],
   "source": []
  },
  {
   "cell_type": "code",
   "execution_count": null,
   "metadata": {},
   "outputs": [],
   "source": []
  },
  {
   "cell_type": "markdown",
   "metadata": {},
   "source": [
    "# Binary Search\n",
    "\n",
    "The Binary Search algorithm works by finding the number in the middle of a given array and comparing it to the target. **Given that the array is sorted**\n",
    "\n",
    "* The worst case run time for this algorithm is `O(log(n))`"
   ]
  },
  {
   "cell_type": "code",
   "execution_count": null,
   "metadata": {},
   "outputs": [],
   "source": []
  },
  {
   "cell_type": "code",
   "execution_count": null,
   "metadata": {},
   "outputs": [],
   "source": [
    "\n"
   ]
  },
  {
   "cell_type": "code",
   "execution_count": null,
   "metadata": {},
   "outputs": [],
   "source": []
  },
  {
   "cell_type": "code",
   "execution_count": null,
   "metadata": {},
   "outputs": [],
   "source": []
  },
  {
   "cell_type": "markdown",
   "metadata": {},
   "source": [
    "# Exercises"
   ]
  },
  {
   "cell_type": "markdown",
   "metadata": {},
   "source": [
    "### Exercise #1 <br>\n",
    "<p>Write a function that takes a list of integers and returns the median value. *Can assume that the list of integers is sorted in ascending value*.</p>"
   ]
  },
  {
   "cell_type": "code",
   "execution_count": 2,
   "metadata": {},
   "outputs": [
    {
     "name": "stdout",
     "output_type": "stream",
     "text": [
      "Median of [1, 3, 5, 7, 9] is: 5\n",
      "Original list: [1, 2, 3, 4, 5]\n",
      "Reversed list: [5, 4, 3, 2, 1]\n"
     ]
    }
   ],
   "source": [
    "# Function to find the median of a sorted list of integers\n",
    "def find_median(sorted_list):\n",
    "    \"\"\"\n",
    "    Returns the median value of a sorted list of integers.\n",
    "\n",
    "    Args:\n",
    "        sorted_list (list): A sorted list of integers.\n",
    "\n",
    "    Returns:\n",
    "        int or float: The median value of the sorted list.\n",
    "\n",
    "    \"\"\"\n",
    "    length = len(sorted_list)\n",
    "\n",
    "    # If the list has an odd number of elements, return the middle element\n",
    "    if length % 2 != 0:\n",
    "        return sorted_list[length // 2]\n",
    "\n",
    "    # If the list has an even number of elements, return the average of the two middle elements\n",
    "    else:\n",
    "        middle1 = sorted_list[length // 2 - 1]\n",
    "        middle2 = sorted_list[length // 2]\n",
    "        return (middle1 + middle2) / 2\n",
    "\n",
    "\n",
    "# Function to reverse a list in-place using an in-place algorithm\n",
    "def reverse_list_in_place(lst):\n",
    "    \"\"\"\n",
    "    Reverses a list in-place using an in-place algorithm.\n",
    "\n",
    "    Args:\n",
    "        lst (list): The list to be reversed.\n",
    "\n",
    "    Returns:\n",
    "        None (The list is modified in-place)\n",
    "\n",
    "    \"\"\"\n",
    "    # Get the length of the list\n",
    "    length = len(lst)\n",
    "\n",
    "    # Iterate over half the length of the list\n",
    "    for i in range(length // 2):\n",
    "        # Swap the elements at the current index and its corresponding index from the end\n",
    "        lst[i], lst[length - 1 - i] = lst[length - 1 - i], lst[i]\n",
    "\n",
    "# Example usage\n",
    "sorted_list = [1, 3, 5, 7, 9]\n",
    "print(f\"Median of {sorted_list} is: {find_median(sorted_list)}\")  # Output: Median of [1, 3, 5, 7, 9] is: 5\n",
    "\n",
    "original_list = [1, 2, 3, 4, 5]\n",
    "print(f\"Original list: {original_list}\")\n",
    "reverse_list_in_place(original_list)\n",
    "print(f\"Reversed list: {original_list}\")  # Output: Reversed list: [5, 4, 3, 2, 1]\n"
   ]
  },
  {
   "cell_type": "code",
   "execution_count": null,
   "metadata": {},
   "outputs": [],
   "source": []
  },
  {
   "cell_type": "markdown",
   "metadata": {},
   "source": [
    "### Exercise #2 <br>\n",
    "<p>Create a function that counts how many distinct words are in the string below, then outputs a dictionary with the words as the key and the value as the amount of times that word appears in the string.</p>\n",
    "Example Output:<code>{'in': 1, 'computing': 1, 'a': 5, ...}</code>"
   ]
  },
  {
   "cell_type": "code",
   "execution_count": null,
   "metadata": {},
   "outputs": [],
   "source": [
    "a_text = 'In computing, a hash table hash map is a data structure in computing which implements an associative array abstract data type, a structure that can map keys to values. A hash table uses a hash function to compute an index into an array of buckets or slots from which the desired value can be found'\n"
   ]
  },
  {
   "cell_type": "code",
   "execution_count": 3,
   "metadata": {},
   "outputs": [
    {
     "name": "stdout",
     "output_type": "stream",
     "text": [
      "{'in': 2, 'computing': 2, 'a': 5, 'hash': 4, 'table': 2, 'map': 2, 'is': 1, 'data': 2, 'structure': 2, 'which': 2, 'implements': 1, 'an': 3, 'associative': 1, 'array': 2, 'abstract': 1, 'type': 1, 'that': 1, 'can': 2, 'keys': 1, 'to': 2, 'values': 1, 'uses': 1, 'function': 1, 'compute': 1, 'index': 1, 'into': 1, 'of': 1, 'buckets': 1, 'or': 1, 'slots': 1, 'from': 1, 'the': 1, 'desired': 1, 'value': 1, 'be': 1, 'found': 1}\n"
     ]
    }
   ],
   "source": [
    "def count_distinct_words(text):\n",
    "    \"\"\"\n",
    "    Count the number of distinct words in the given text and return a dictionary\n",
    "    with words as keys and their frequency as values.\n",
    "\n",
    "    Args:\n",
    "    text (str): The input text to analyze\n",
    "\n",
    "    Returns:\n",
    "    dict: A dictionary with distinct words as keys and their frequency as values\n",
    "    \"\"\"\n",
    "    words = text.lower().split()  # Split the text into words and convert to lowercase\n",
    "    word_count = {}  # Initialize an empty dictionary to store word counts\n",
    "\n",
    "    for word in words:\n",
    "        # Remove punctuation from the word\n",
    "        word = word.strip('.,!?()[]{}\"\\'')\n",
    "        \n",
    "        if word in word_count:\n",
    "            word_count[word] += 1\n",
    "        else:\n",
    "            word_count[word] = 1\n",
    "\n",
    "    return word_count\n",
    "\n",
    "# Input text to analyze\n",
    "a_text = 'In computing, a hash table hash map is a data structure in computing which implements an associative array abstract data type, a structure that can map keys to values. A hash table uses a hash function to compute an index into an array of buckets or slots from which the desired value can be found'\n",
    "\n",
    "# Count distinct words in the input text\n",
    "distinct_words_count = count_distinct_words(a_text)\n",
    "print(distinct_words_count)\n"
   ]
  },
  {
   "cell_type": "code",
   "execution_count": null,
   "metadata": {},
   "outputs": [],
   "source": []
  },
  {
   "cell_type": "markdown",
   "metadata": {},
   "source": [
    "## Exercise #3\n",
    "\n",
    "Write a function implementing a Linear Search Algorithm. A linear search is a method for finding an element within a list. It sequentially checks each element of the list until a match is found or the whole list has been searched. If you do not find a match, return -1. *You can assume the list is sorted*"
   ]
  },
  {
   "cell_type": "code",
   "execution_count": 5,
   "metadata": {},
   "outputs": [
    {
     "name": "stdout",
     "output_type": "stream",
     "text": [
      "Element 7 found at index 3.\n"
     ]
    }
   ],
   "source": [
    "def linear_search(arr, target):\n",
    "    \"\"\"\n",
    "    Perform a linear search on a sorted list to find the target element.\n",
    "\n",
    "    Parameters:\n",
    "    arr (list): A sorted list of elements to search through.\n",
    "    target: The element to search for in the list.\n",
    "\n",
    "    Returns:\n",
    "    int: Index of the target element in the list if found, -1 otherwise.\n",
    "    \"\"\"\n",
    "    for i in range(len(arr)):\n",
    "        if arr[i] == target:\n",
    "            return i\n",
    "        elif arr[i] > target:\n",
    "            return -1\n",
    "    return -1\n",
    "\n",
    "# Test the linear_search function\n",
    "sorted_list = [1, 3, 5, 7, 9, 11, 13, 15]\n",
    "target_element = 7\n",
    "result = linear_search(sorted_list, target_element)\n",
    "if result != -1:\n",
    "    print(f\"Element {target_element} found at index {result}.\")\n",
    "else:\n",
    "    print(f\"Element {target_element} not found in the list.\")\n"
   ]
  },
  {
   "cell_type": "code",
   "execution_count": null,
   "metadata": {},
   "outputs": [],
   "source": []
  },
  {
   "cell_type": "code",
   "execution_count": null,
   "metadata": {},
   "outputs": [],
   "source": []
  },
  {
   "cell_type": "code",
   "execution_count": null,
   "metadata": {},
   "outputs": [],
   "source": []
  },
  {
   "cell_type": "code",
   "execution_count": null,
   "metadata": {},
   "outputs": [],
   "source": []
  }
 ],
 "metadata": {
  "kernelspec": {
   "display_name": "Python 3 (ipykernel)",
   "language": "python",
   "name": "python3"
  },
  "language_info": {
   "codemirror_mode": {
    "name": "ipython",
    "version": 3
   },
   "file_extension": ".py",
   "mimetype": "text/x-python",
   "name": "python",
   "nbconvert_exporter": "python",
   "pygments_lexer": "ipython3",
   "version": "3.11.5"
  }
 },
 "nbformat": 4,
 "nbformat_minor": 4
}
